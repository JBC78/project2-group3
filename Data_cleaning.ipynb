{
 "cells": [
  {
   "cell_type": "code",
   "execution_count": 5,
   "metadata": {},
   "outputs": [],
   "source": [
    "import pandas as pd\n",
    "import matplotlib.pyplot as plt\n",
    "import scipy.stats as sts\n",
    "import numpy as np\n",
    "\n",
    "parks = pd.read_csv(\"Resources/state-park-facility-points-1.csv\")\n",
    "attendance = pd.read_csv(\"Resources/State_Park_Annual_Attendance_Figures_by_Facility___Beginning_2003.csv\")\n",
    "income = pd.read_csv(\"Resources/Median Household Income by County.csv\")\n",
    "population = pd.read_csv(\"Resources/Population Estimates by County.csv\")"
   ]
  },
  {
   "cell_type": "code",
   "execution_count": null,
   "metadata": {},
   "outputs": [],
   "source": [
    "parks = parks.drop(columns=['Facility URL', 'Golf URL', 'Nature Center URL', 'Location']).fillna('N')"
   ]
  },
  {
   "cell_type": "code",
   "execution_count": null,
   "metadata": {},
   "outputs": [],
   "source": [
    "parks = parks.sort_values(by='Name')\n",
    "parks\n",
    "parks.to_csv (r'CleanedData/StatePark.csv', index = False, header=True)"
   ]
  },
  {
   "cell_type": "code",
   "execution_count": 9,
   "metadata": {
    "scrolled": true
   },
   "outputs": [
    {
     "name": "stderr",
     "output_type": "stream",
     "text": [
      "C:\\Users\\bluec\\anaconda3\\lib\\site-packages\\pandas\\core\\frame.py:4296: SettingWithCopyWarning: \n",
      "A value is trying to be set on a copy of a slice from a DataFrame\n",
      "\n",
      "See the caveats in the documentation: https://pandas.pydata.org/pandas-docs/stable/user_guide/indexing.html#returning-a-view-versus-a-copy\n",
      "  return super().rename(\n",
      "C:\\Users\\bluec\\anaconda3\\lib\\site-packages\\pandas\\core\\dtypes\\cast.py:1229: VisibleDeprecationWarning: Creating an ndarray from ragged nested sequences (which is a list-or-tuple of lists-or-tuples-or ndarrays with different lengths or shapes) is deprecated. If you meant to do this, you must specify 'dtype=object' when creating the ndarray\n",
      "  v = np.array(v, copy=False)\n",
      "C:\\Users\\bluec\\anaconda3\\lib\\site-packages\\pandas\\core\\dtypes\\cast.py:1623: VisibleDeprecationWarning: Creating an ndarray from ragged nested sequences (which is a list-or-tuple of lists-or-tuples-or ndarrays with different lengths or shapes) is deprecated. If you meant to do this, you must specify 'dtype=object' when creating the ndarray\n",
      "  subarr = np.array(values, dtype=dtype, copy=copy)\n",
      "C:\\Users\\bluec\\anaconda3\\lib\\site-packages\\numpy\\core\\_asarray.py:83: VisibleDeprecationWarning: Creating an ndarray from ragged nested sequences (which is a list-or-tuple of lists-or-tuples-or ndarrays with different lengths or shapes) is deprecated. If you meant to do this, you must specify 'dtype=object' when creating the ndarray\n",
      "  return array(a, dtype, copy=False, order=order)\n"
     ]
    },
    {
     "data": {
      "text/html": [
       "<div>\n",
       "<style scoped>\n",
       "    .dataframe tbody tr th:only-of-type {\n",
       "        vertical-align: middle;\n",
       "    }\n",
       "\n",
       "    .dataframe tbody tr th {\n",
       "        vertical-align: top;\n",
       "    }\n",
       "\n",
       "    .dataframe thead th {\n",
       "        text-align: right;\n",
       "    }\n",
       "</style>\n",
       "<table border=\"1\" class=\"dataframe\">\n",
       "  <thead>\n",
       "    <tr style=\"text-align: right;\">\n",
       "      <th></th>\n",
       "      <th>Year</th>\n",
       "      <th>OPRHP Region</th>\n",
       "      <th>County</th>\n",
       "      <th>Name</th>\n",
       "      <th>Attendance</th>\n",
       "    </tr>\n",
       "  </thead>\n",
       "  <tbody>\n",
       "    <tr>\n",
       "      <th>1</th>\n",
       "      <td>2019</td>\n",
       "      <td>Finger Lakes</td>\n",
       "      <td>Tompkins</td>\n",
       "      <td>Allan Treman Marina</td>\n",
       "      <td>355313</td>\n",
       "    </tr>\n",
       "    <tr>\n",
       "      <th>19</th>\n",
       "      <td>2019</td>\n",
       "      <td>Allegany</td>\n",
       "      <td>Cattaraugus</td>\n",
       "      <td>Allegany Quaker Area</td>\n",
       "      <td>802727</td>\n",
       "    </tr>\n",
       "    <tr>\n",
       "      <th>37</th>\n",
       "      <td>2019</td>\n",
       "      <td>Allegany</td>\n",
       "      <td>Cattaraugus</td>\n",
       "      <td>Allegany Red House Area</td>\n",
       "      <td>718483</td>\n",
       "    </tr>\n",
       "    <tr>\n",
       "      <th>55</th>\n",
       "      <td>2019</td>\n",
       "      <td>Long Island</td>\n",
       "      <td>Suffolk</td>\n",
       "      <td>Amsterdam Beach</td>\n",
       "      <td>13860</td>\n",
       "    </tr>\n",
       "    <tr>\n",
       "      <th>59</th>\n",
       "      <td>2019</td>\n",
       "      <td>Palisades</td>\n",
       "      <td>Orange/Rockland</td>\n",
       "      <td>Anthony Wayne</td>\n",
       "      <td>83463</td>\n",
       "    </tr>\n",
       "    <tr>\n",
       "      <th>...</th>\n",
       "      <td>...</td>\n",
       "      <td>...</td>\n",
       "      <td>...</td>\n",
       "      <td>...</td>\n",
       "      <td>...</td>\n",
       "    </tr>\n",
       "    <tr>\n",
       "      <th>4164</th>\n",
       "      <td>2019</td>\n",
       "      <td>Niagara</td>\n",
       "      <td>Niagara</td>\n",
       "      <td>Whirlpool</td>\n",
       "      <td>417994</td>\n",
       "    </tr>\n",
       "    <tr>\n",
       "      <th>4182</th>\n",
       "      <td>2019</td>\n",
       "      <td>Long Island</td>\n",
       "      <td>Suffolk</td>\n",
       "      <td>Wildwood State Park</td>\n",
       "      <td>447597</td>\n",
       "    </tr>\n",
       "    <tr>\n",
       "      <th>4200</th>\n",
       "      <td>2019</td>\n",
       "      <td>Thousand Islands</td>\n",
       "      <td>St Lawrence</td>\n",
       "      <td>Wilson Hill Boat Launch</td>\n",
       "      <td>8406</td>\n",
       "    </tr>\n",
       "    <tr>\n",
       "      <th>4218</th>\n",
       "      <td>2019</td>\n",
       "      <td>Niagara</td>\n",
       "      <td>Niagara</td>\n",
       "      <td>Wilson Tuscarora St Pk</td>\n",
       "      <td>218596</td>\n",
       "    </tr>\n",
       "    <tr>\n",
       "      <th>4236</th>\n",
       "      <td>2019</td>\n",
       "      <td>Niagara</td>\n",
       "      <td>Erie</td>\n",
       "      <td>Woodlawn</td>\n",
       "      <td>0</td>\n",
       "    </tr>\n",
       "  </tbody>\n",
       "</table>\n",
       "<p>244 rows × 5 columns</p>\n",
       "</div>"
      ],
      "text/plain": [
       "      Year      OPRHP Region           County                     Name  \\\n",
       "1     2019      Finger Lakes         Tompkins      Allan Treman Marina   \n",
       "19    2019          Allegany      Cattaraugus     Allegany Quaker Area   \n",
       "37    2019          Allegany      Cattaraugus  Allegany Red House Area   \n",
       "55    2019       Long Island          Suffolk          Amsterdam Beach   \n",
       "59    2019         Palisades  Orange/Rockland            Anthony Wayne   \n",
       "...    ...               ...              ...                      ...   \n",
       "4164  2019           Niagara          Niagara                Whirlpool   \n",
       "4182  2019       Long Island          Suffolk      Wildwood State Park   \n",
       "4200  2019  Thousand Islands      St Lawrence  Wilson Hill Boat Launch   \n",
       "4218  2019           Niagara          Niagara   Wilson Tuscarora St Pk   \n",
       "4236  2019           Niagara             Erie                 Woodlawn   \n",
       "\n",
       "      Attendance  \n",
       "1         355313  \n",
       "19        802727  \n",
       "37        718483  \n",
       "55         13860  \n",
       "59         83463  \n",
       "...          ...  \n",
       "4164      417994  \n",
       "4182      447597  \n",
       "4200        8406  \n",
       "4218      218596  \n",
       "4236           0  \n",
       "\n",
       "[244 rows x 5 columns]"
      ]
     },
     "execution_count": 9,
     "metadata": {},
     "output_type": "execute_result"
    }
   ],
   "source": [
    "att2019 = attendance[attendance[\"Year\"] == 2019]\n",
    "att2019.rename(columns={'Facility': 'Name'}, inplace=True)\n",
    "att2019 = att2019.sort_values(by = 'Name')\n",
    "grouped_att = att2019.groupby(['County'])['Attendance'].sum()\n",
    "grouped_county = att2019.groupby(['County'])['County']\n",
    "\n",
    "park_att = pd.DataFrame({'County': grouped_county , 'Attendance': grouped_att})\n",
    "\n",
    "# park_att['County']= park_att.index\n",
    "# park_att.reset_index(drop=True, inplace=True)\n",
    "att2019\n"
   ]
  },
  {
   "cell_type": "code",
   "execution_count": null,
   "metadata": {},
   "outputs": [],
   "source": [
    "income['Median Household Income by County'] = income['Median Household Income by County'].str.replace('County', '')\n",
    "income.drop(income.tail(1).index,inplace=True)\n",
    "income.drop(income.head(1).index,inplace=True)\n",
    "income.rename(columns={'Median Household Income by County':'County', 'Unnamed: 1': 'Income', 'Unnamed: 2': 'Margin of Error'}, inplace=True)\n",
    "income.to_csv (r'CleanedData/income.csv', index = False, header=True)"
   ]
  },
  {
   "cell_type": "code",
   "execution_count": 2,
   "metadata": {
    "scrolled": false
   },
   "outputs": [],
   "source": [
    "population['Population Estimates by County'] = population['Population Estimates by County'].str.replace('County', '')\n",
    "population.drop(income.tail(1).index,inplace=True)\n",
    "population.drop(income.head(1).index,inplace=True)\n",
    "population.rename(columns={'Population Estimates by County':'County', 'Unnamed: 1': 'Population'}, inplace=True)"
   ]
  },
  {
   "cell_type": "code",
   "execution_count": 4,
   "metadata": {},
   "outputs": [],
   "source": [
    "population.to_csv (r'CleanedData/population.csv', index = False, header=True)"
   ]
  },
  {
   "cell_type": "code",
   "execution_count": null,
   "metadata": {},
   "outputs": [],
   "source": [
    "att2019.to_csv (r'CleanedData/2019_Attendance.csv', index = False, header=True)\n",
    "park_att.to_csv (r'CleanedData/park_county_attendance.csv', index = False, header=True)\n"
   ]
  },
  {
   "cell_type": "code",
   "execution_count": null,
   "metadata": {
    "scrolled": true
   },
   "outputs": [],
   "source": [
    "joined = pd.merge(parks, att2019, on = 'Name', how = 'right')\n",
    "joined = joined.sort_values(by = 'Name')\n",
    "joined"
   ]
  }
 ],
 "metadata": {
  "kernelspec": {
   "display_name": "Python 3",
   "language": "python",
   "name": "python3"
  },
  "language_info": {
   "codemirror_mode": {
    "name": "ipython",
    "version": 3
   },
   "file_extension": ".py",
   "mimetype": "text/x-python",
   "name": "python",
   "nbconvert_exporter": "python",
   "pygments_lexer": "ipython3",
   "version": "3.8.5"
  }
 },
 "nbformat": 4,
 "nbformat_minor": 4
}
